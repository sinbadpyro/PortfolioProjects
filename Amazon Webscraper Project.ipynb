{
 "cells": [
  {
   "cell_type": "markdown",
   "id": "7380b54e-1376-4d57-bbdb-ea5fde0cb274",
   "metadata": {},
   "source": [
    "# Amazon webscraper Project"
   ]
  },
  {
   "cell_type": "code",
   "execution_count": 1,
   "id": "55855f6a-7bae-48ef-82ca-6a9ec67ba350",
   "metadata": {},
   "outputs": [],
   "source": [
    "#import libraries\n",
    "from bs4 import BeautifulSoup\n",
    "import requests\n",
    "import smtplib\n",
    "import time\n",
    "import datetime"
   ]
  },
  {
   "cell_type": "code",
   "execution_count": 24,
   "id": "5cbca6cd-6ee4-4466-bac5-de9167bccf99",
   "metadata": {},
   "outputs": [
    {
     "name": "stdout",
     "output_type": "stream",
     "text": [
      "Title: CyberPowerPC Gamer Xtreme VR Gaming PC, Intel Core i5-13400F 2.5GHz, GeForce RTX 4060 8GB, 16GB DDR5, 1TB PCIe Gen4 SSD, WiFi Ready & Windows 11 Home (GXiVR8060A24)\n",
      "Price: 899.\n"
     ]
    }
   ],
   "source": [
    "import requests\n",
    "from bs4 import BeautifulSoup\n",
    "\n",
    "# URL and headers\n",
    "URL = \"https://www.amazon.com/CyberPowerPC-i5-13400F-GeForce-Windows-GXiVR8060A24/dp/B0DCMPRRFD/\"\n",
    "headers = {\n",
    "    \"User-Agent\": \"Mozilla/5.0 (Windows NT 10.0; Win64; x64; rv:99.0) Gecko/20100101 Firefox/99.0\",\n",
    "    \"Accept-Language\": \"en-US,en;q=0.5\",\n",
    "}\n",
    "\n",
    "# Fetch the webpage\n",
    "page = requests.get(URL, headers=headers)\n",
    "\n",
    "# Parse the HTML\n",
    "soup = BeautifulSoup(page.content, \"html.parser\")\n",
    "\n",
    "# Extract the title\n",
    "title_element = soup.find(id='productTitle')\n",
    "if title_element:\n",
    "    title = title_element.get_text(strip=True)\n",
    "else:\n",
    "    title = \"Title not found\"\n",
    "\n",
    "# Extract the price\n",
    "price_element = soup.find(class_='a-price-whole')\n",
    "if price_element:\n",
    "    price = price_element.get_text(strip=True)\n",
    "else:\n",
    "    price = \"Price not found\"\n",
    "\n",
    "# Print the results\n",
    "print(f\"Title: {title}\")\n",
    "print(f\"Price: {price}\")\n"
   ]
  },
  {
   "cell_type": "code",
   "execution_count": 30,
   "id": "a214a738-4a1d-4f67-b490-26e0aed4a8fe",
   "metadata": {},
   "outputs": [
    {
     "name": "stdout",
     "output_type": "stream",
     "text": [
      "2025-01-10\n"
     ]
    }
   ],
   "source": [
    "import datetime\n",
    "\n",
    "today = datetime.date.today()\n",
    "print(today)"
   ]
  },
  {
   "cell_type": "code",
   "execution_count": 34,
   "id": "ca17d60a-39ca-4cba-9d66-35c82ba687a0",
   "metadata": {},
   "outputs": [],
   "source": [
    "import csv \n",
    "\n",
    "header = ['Title', 'Price', 'Date']\n",
    "data = [title, price, today]\n",
    "\n",
    "\n",
    "#with open('AmazonWebScraperDataset.csv', 'w', newline='', encoding='UTF8') as f:\n",
    "    #writer = csv.writer(f)\n",
    "    #writer.writerow(header)\n",
    "    #writer.writerow(data)"
   ]
  },
  {
   "cell_type": "code",
   "execution_count": 38,
   "id": "13950528-6908-4659-a419-938d73916990",
   "metadata": {},
   "outputs": [
    {
     "name": "stdout",
     "output_type": "stream",
     "text": [
      "                                               Title  Price        Date\n",
      "0  CyberPowerPC Gamer Xtreme VR Gaming PC, Intel ...  899.0  2025-01-10\n",
      "1  CyberPowerPC Gamer Xtreme VR Gaming PC, Intel ...  899.0  2025-01-10\n"
     ]
    }
   ],
   "source": [
    "import pandas as pd\n",
    "df = pd.read_csv(r'C:\\Users\\SINBAD OMORODION\\AmazonWebScraperDataset.csv')\n",
    "print(df)"
   ]
  },
  {
   "cell_type": "code",
   "execution_count": 37,
   "id": "6ea0b2d5-0e39-474f-a875-9d582d0ea893",
   "metadata": {},
   "outputs": [],
   "source": [
    "#now we are appending data to the csv \n",
    "with open('AmazonWebScraperDataset.csv', 'a+', newline='', encoding='UTF8') as f:\n",
    "    writer = csv.writer(f)\n",
    "    writer.writerow(data)"
   ]
  },
  {
   "cell_type": "code",
   "execution_count": 39,
   "id": "acc12643-48c4-429d-bacf-d2ac8cba624a",
   "metadata": {},
   "outputs": [],
   "source": [
    "def check_price():\n",
    "    import requests\n",
    "    from bs4 import BeautifulSoup\n",
    "\n",
    "    # URL and headers\n",
    "    URL = \"https://www.amazon.com/CyberPowerPC-i5-13400F-GeForce-Windows-GXiVR8060A24/dp/B0DCMPRRFD/\"\n",
    "    headers = {\n",
    "        \"User-Agent\": \"Mozilla/5.0 (Windows NT 10.0; Win64; x64; rv:99.0) Gecko/20100101 Firefox/99.0\",\n",
    "        \"Accept-Language\": \"en-US,en;q=0.5\",\n",
    "    }\n",
    "    \n",
    "    # Fetch the webpage\n",
    "    page = requests.get(URL, headers=headers)\n",
    "    \n",
    "    # Parse the HTML\n",
    "    soup = BeautifulSoup(page.content, \"html.parser\")\n",
    "    \n",
    "    # Extract the title\n",
    "    title_element = soup.find(id='productTitle')\n",
    "    if title_element:\n",
    "        title = title_element.get_text(strip=True)\n",
    "    else:\n",
    "        title = \"Title not found\"\n",
    "    \n",
    "    # Extract the price\n",
    "    price_element = soup.find(class_='a-price-whole')\n",
    "    if price_element:\n",
    "        price = price_element.get_text(strip=True)\n",
    "    else:\n",
    "        price = \"Price not found\"\n",
    "    \n",
    "    # Print the results\n",
    "    print(f\"Title: {title}\")\n",
    "    print(f\"Price: {price}\")\n",
    "    import datetime\n",
    "    today = datetime.date.today()\n",
    "\n",
    "    import csv \n",
    "    \n",
    "    header = ['Title', 'Price', 'Date']\n",
    "    data = [title, price, today]\n",
    "\n",
    "    with open('AmazonWebScraperDataset.csv', 'a+', newline='', encoding='UTF8') as f:\n",
    "        writer = csv.writer(f)\n",
    "        writer.writerow(data)\n",
    "      "
   ]
  },
  {
   "cell_type": "code",
   "execution_count": null,
   "id": "ab040e52-c111-4679-8386-f01cd167b64e",
   "metadata": {},
   "outputs": [
    {
     "name": "stdout",
     "output_type": "stream",
     "text": [
      "Title: CyberPowerPC Gamer Xtreme VR Gaming PC, Intel Core i5-13400F 2.5GHz, GeForce RTX 4060 8GB, 16GB DDR5, 1TB PCIe Gen4 SSD, WiFi Ready & Windows 11 Home (GXiVR8060A24)\n",
      "Price: 899.\n"
     ]
    }
   ],
   "source": [
    "while(True):\n",
    "    check_price()\n",
    "    time.sleep(86400)\n"
   ]
  },
  {
   "cell_type": "code",
   "execution_count": 41,
   "id": "84ccbed6-f38a-426f-98f2-974d23f73357",
   "metadata": {},
   "outputs": [
    {
     "name": "stdout",
     "output_type": "stream",
     "text": [
      "                                               Title  Price        Date\n",
      "0  CyberPowerPC Gamer Xtreme VR Gaming PC, Intel ...  899.0  2025-01-10\n",
      "1  CyberPowerPC Gamer Xtreme VR Gaming PC, Intel ...  899.0  2025-01-10\n",
      "2  CyberPowerPC Gamer Xtreme VR Gaming PC, Intel ...  899.0  2025-01-10\n",
      "3  CyberPowerPC Gamer Xtreme VR Gaming PC, Intel ...  899.0  2025-01-10\n",
      "4  CyberPowerPC Gamer Xtreme VR Gaming PC, Intel ...  899.0  2025-01-10\n",
      "5  CyberPowerPC Gamer Xtreme VR Gaming PC, Intel ...  899.0  2025-01-10\n"
     ]
    }
   ],
   "source": [
    "import pandas as pd\n",
    "df = pd.read_csv(r'C:\\Users\\SINBAD OMORODION\\AmazonWebScraperDataset.csv')\n",
    "print(df)"
   ]
  },
  {
   "cell_type": "code",
   "execution_count": null,
   "id": "e44cc0f6-4ea5-4472-86a4-abaab8aab446",
   "metadata": {},
   "outputs": [],
   "source": []
  }
 ],
 "metadata": {
  "kernelspec": {
   "display_name": "Python 3 (ipykernel)",
   "language": "python",
   "name": "python3"
  },
  "language_info": {
   "codemirror_mode": {
    "name": "ipython",
    "version": 3
   },
   "file_extension": ".py",
   "mimetype": "text/x-python",
   "name": "python",
   "nbconvert_exporter": "python",
   "pygments_lexer": "ipython3",
   "version": "3.12.4"
  }
 },
 "nbformat": 4,
 "nbformat_minor": 5
}
